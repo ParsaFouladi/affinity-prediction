{
  "nbformat": 4,
  "nbformat_minor": 0,
  "metadata": {
    "colab": {
      "provenance": [],
      "mount_file_id": "19fxrmbdWKLESygFb5Xfqt9BvhGgiqYPE",
      "authorship_tag": "ABX9TyP+2/F1sZ00QK6I1dyh7KrQ",
      "include_colab_link": true
    },
    "kernelspec": {
      "name": "python3",
      "display_name": "Python 3"
    },
    "language_info": {
      "name": "python"
    }
  },
  "cells": [
    {
      "cell_type": "markdown",
      "metadata": {
        "id": "view-in-github",
        "colab_type": "text"
      },
      "source": [
        "<a href=\"https://colab.research.google.com/github/ParsaFouladi/affinity-prediction/blob/main/protein_ligand_representation.ipynb\" target=\"_parent\"><img src=\"https://colab.research.google.com/assets/colab-badge.svg\" alt=\"Open In Colab\"/></a>"
      ]
    },
    {
      "cell_type": "markdown",
      "source": [
        "#Prepare the requirements"
      ],
      "metadata": {
        "id": "ZP0wRgEA5MO9"
      }
    },
    {
      "cell_type": "code",
      "execution_count": 1,
      "metadata": {
        "id": "gyMXnfWF0dcY"
      },
      "outputs": [],
      "source": [
        "!tar -xf /content/drive/MyDrive/Brunel/Dissertation/PDBbind_v2020_refined.tar"
      ]
    },
    {
      "cell_type": "code",
      "source": [
        "!ls /content/refined-set | wc -l"
      ],
      "metadata": {
        "colab": {
          "base_uri": "https://localhost:8080/"
        },
        "id": "Q4wqhgX_1o3C",
        "outputId": "e8679d3a-66a6-4d45-ff7a-9f6a2c3b6826"
      },
      "execution_count": 2,
      "outputs": [
        {
          "output_type": "stream",
          "name": "stdout",
          "text": [
            "5318\n"
          ]
        }
      ]
    },
    {
      "cell_type": "code",
      "source": [
        "!pip install rdkit"
      ],
      "metadata": {
        "colab": {
          "base_uri": "https://localhost:8080/"
        },
        "id": "xw108vH413Oe",
        "outputId": "e637bd17-7783-4e87-ce6b-9b3de06c3598"
      },
      "execution_count": 3,
      "outputs": [
        {
          "output_type": "stream",
          "name": "stdout",
          "text": [
            "Collecting rdkit\n",
            "  Downloading rdkit-2024.3.1-cp310-cp310-manylinux_2_17_x86_64.manylinux2014_x86_64.whl (35.1 MB)\n",
            "\u001b[2K     \u001b[90m━━━━━━━━━━━━━━━━━━━━━━━━━━━━━━━━━━━━━━━━\u001b[0m \u001b[32m35.1/35.1 MB\u001b[0m \u001b[31m11.1 MB/s\u001b[0m eta \u001b[36m0:00:00\u001b[0m\n",
            "\u001b[?25hRequirement already satisfied: numpy in /usr/local/lib/python3.10/dist-packages (from rdkit) (1.25.2)\n",
            "Requirement already satisfied: Pillow in /usr/local/lib/python3.10/dist-packages (from rdkit) (9.4.0)\n",
            "Installing collected packages: rdkit\n",
            "Successfully installed rdkit-2024.3.1\n"
          ]
        }
      ]
    },
    {
      "cell_type": "code",
      "source": [
        "!pip install biopython"
      ],
      "metadata": {
        "colab": {
          "base_uri": "https://localhost:8080/"
        },
        "id": "IjUNr8d62np3",
        "outputId": "1b4d7b67-9f5c-409f-cffd-c1e175469cfa"
      },
      "execution_count": 4,
      "outputs": [
        {
          "output_type": "stream",
          "name": "stdout",
          "text": [
            "Collecting biopython\n",
            "  Downloading biopython-1.83-cp310-cp310-manylinux_2_17_x86_64.manylinux2014_x86_64.whl (3.1 MB)\n",
            "\u001b[2K     \u001b[90m━━━━━━━━━━━━━━━━━━━━━━━━━━━━━━━━━━━━━━━━\u001b[0m \u001b[32m3.1/3.1 MB\u001b[0m \u001b[31m12.5 MB/s\u001b[0m eta \u001b[36m0:00:00\u001b[0m\n",
            "\u001b[?25hRequirement already satisfied: numpy in /usr/local/lib/python3.10/dist-packages (from biopython) (1.25.2)\n",
            "Installing collected packages: biopython\n",
            "Successfully installed biopython-1.83\n"
          ]
        }
      ]
    },
    {
      "cell_type": "code",
      "source": [
        "!pip install mendeleev"
      ],
      "metadata": {
        "colab": {
          "base_uri": "https://localhost:8080/"
        },
        "id": "vs8_2zXerGEd",
        "outputId": "899ab9d4-b2c3-4110-fab9-b78934b9e299"
      },
      "execution_count": 17,
      "outputs": [
        {
          "output_type": "stream",
          "name": "stdout",
          "text": [
            "Collecting mendeleev\n",
            "  Downloading mendeleev-0.17.0-py3-none-any.whl (367 kB)\n",
            "\u001b[?25l     \u001b[90m━━━━━━━━━━━━━━━━━━━━━━━━━━━━━━━━━━━━━━━━\u001b[0m \u001b[32m0.0/367.4 kB\u001b[0m \u001b[31m?\u001b[0m eta \u001b[36m-:--:--\u001b[0m\r\u001b[2K     \u001b[91m━━━━━━━\u001b[0m\u001b[91m╸\u001b[0m\u001b[90m━━━━━━━━━━━━━━━━━━━━━━━━━━━━━━━━\u001b[0m \u001b[32m71.7/367.4 kB\u001b[0m \u001b[31m1.9 MB/s\u001b[0m eta \u001b[36m0:00:01\u001b[0m\r\u001b[2K     \u001b[90m━━━━━━━━━━━━━━━━━━━━━━━━━━━━━━━━━━━━━━━━\u001b[0m \u001b[32m367.4/367.4 kB\u001b[0m \u001b[31m5.2 MB/s\u001b[0m eta \u001b[36m0:00:00\u001b[0m\n",
            "\u001b[?25hRequirement already satisfied: Pygments<3.0.0,>=2.11.2 in /usr/local/lib/python3.10/dist-packages (from mendeleev) (2.16.1)\n",
            "Requirement already satisfied: SQLAlchemy>=1.4.0 in /usr/local/lib/python3.10/dist-packages (from mendeleev) (2.0.31)\n",
            "Collecting colorama<0.5.0,>=0.4.6 (from mendeleev)\n",
            "  Downloading colorama-0.4.6-py2.py3-none-any.whl (25 kB)\n",
            "Requirement already satisfied: numpy<2.0,>=1.21 in /usr/local/lib/python3.10/dist-packages (from mendeleev) (1.25.2)\n",
            "Requirement already satisfied: pandas>=1.0.0 in /usr/local/lib/python3.10/dist-packages (from mendeleev) (2.0.3)\n",
            "Collecting pyfiglet<0.9,>=0.8.post1 (from mendeleev)\n",
            "  Downloading pyfiglet-0.8.post1-py2.py3-none-any.whl (865 kB)\n",
            "\u001b[2K     \u001b[90m━━━━━━━━━━━━━━━━━━━━━━━━━━━━━━━━━━━━━━━━\u001b[0m \u001b[32m865.8/865.8 kB\u001b[0m \u001b[31m21.7 MB/s\u001b[0m eta \u001b[36m0:00:00\u001b[0m\n",
            "\u001b[?25hRequirement already satisfied: python-dateutil>=2.8.2 in /usr/local/lib/python3.10/dist-packages (from pandas>=1.0.0->mendeleev) (2.8.2)\n",
            "Requirement already satisfied: pytz>=2020.1 in /usr/local/lib/python3.10/dist-packages (from pandas>=1.0.0->mendeleev) (2023.4)\n",
            "Requirement already satisfied: tzdata>=2022.1 in /usr/local/lib/python3.10/dist-packages (from pandas>=1.0.0->mendeleev) (2024.1)\n",
            "Requirement already satisfied: typing-extensions>=4.6.0 in /usr/local/lib/python3.10/dist-packages (from SQLAlchemy>=1.4.0->mendeleev) (4.12.2)\n",
            "Requirement already satisfied: greenlet!=0.4.17 in /usr/local/lib/python3.10/dist-packages (from SQLAlchemy>=1.4.0->mendeleev) (3.0.3)\n",
            "Requirement already satisfied: six>=1.5 in /usr/local/lib/python3.10/dist-packages (from python-dateutil>=2.8.2->pandas>=1.0.0->mendeleev) (1.16.0)\n",
            "Installing collected packages: pyfiglet, colorama, mendeleev\n",
            "Successfully installed colorama-0.4.6 mendeleev-0.17.0 pyfiglet-0.8.post1\n"
          ]
        }
      ]
    },
    {
      "cell_type": "code",
      "source": [
        "!ls /content/refined-set/10gs"
      ],
      "metadata": {
        "colab": {
          "base_uri": "https://localhost:8080/"
        },
        "id": "js_s2L_z2tWG",
        "outputId": "4e281513-1d13-4212-d24a-ff39dcd5b024"
      },
      "execution_count": 5,
      "outputs": [
        {
          "output_type": "stream",
          "name": "stdout",
          "text": [
            "10gs_ligand.mol2  10gs_ligand.sdf  10gs_pocket.pdb  10gs_protein.pdb\n"
          ]
        }
      ]
    },
    {
      "cell_type": "markdown",
      "source": [
        "#Develop and run the code for 10gs complex"
      ],
      "metadata": {
        "id": "N_dIgkM95Kbz"
      }
    },
    {
      "cell_type": "code",
      "source": [
        "import numpy as np\n",
        "from Bio.PDB import *\n",
        "from Bio.SeqUtils.ProtParam import ProteinAnalysis\n",
        "from rdkit import Chem\n",
        "from rdkit.Chem import Descriptors\n",
        "from scipy.spatial.distance import cdist\n",
        "from mendeleev import element\n",
        "from mendeleev.fetch import fetch_table\n"
      ],
      "metadata": {
        "id": "SpUqIcod5HHN"
      },
      "execution_count": 25,
      "outputs": []
    },
    {
      "cell_type": "code",
      "source": [
        "# Load Ligand (replace with your ligand file or SMILES)\n",
        "#mol = Chem.MolFromSmiles(\"your_ligand_smiles\")\n",
        "mol=Chem.MolFromMol2File(\"/content/refined-set/10gs/10gs_ligand.mol2\")"
      ],
      "metadata": {
        "id": "o9umoJSzbakj"
      },
      "execution_count": 7,
      "outputs": []
    },
    {
      "cell_type": "code",
      "source": [
        "mol"
      ],
      "metadata": {
        "colab": {
          "base_uri": "https://localhost:8080/",
          "height": 167
        },
        "id": "-C8e9qEUb4xV",
        "outputId": "b3be0f10-f789-43a4-e514-3782191b90b0"
      },
      "execution_count": 8,
      "outputs": [
        {
          "output_type": "execute_result",
          "data": {
            "text/plain": [
              "<rdkit.Chem.rdchem.Mol at 0x7e6a94dfce40>"
            ],
            "image/png": "[encoded data removed]"
          },
          "metadata": {},
          "execution_count": 8
        }
      ]
    },
    {
      "cell_type": "code",
      "source": [
        "# Set Maximum Length\n",
        "max_length = 400  # Maximum number of amino acids\n",
        "\n",
        "# Load Protein Structure (replace with your PDB file path)\n",
        "parser = PDBParser()\n",
        "structure = parser.get_structure(\"protein\", \"/content/refined-set/10gs/10gs_protein.pdb\")"
      ],
      "metadata": {
        "colab": {
          "base_uri": "https://localhost:8080/"
        },
        "id": "wg27uWAe8qqV",
        "outputId": "dcbcc8ee-1c31-4a2f-94ff-14252391e8f7"
      },
      "execution_count": 9,
      "outputs": [
        {
          "output_type": "stream",
          "name": "stderr",
          "text": [
            "/usr/local/lib/python3.10/dist-packages/Bio/PDB/PDBParser.py:388: PDBConstructionWarning: Ignoring unrecognized record 'TER' at line 3299\n",
            "  warnings.warn(\n",
            "/usr/local/lib/python3.10/dist-packages/Bio/PDB/PDBParser.py:388: PDBConstructionWarning: Ignoring unrecognized record 'TER' at line 6563\n",
            "  warnings.warn(\n",
            "/usr/local/lib/python3.10/dist-packages/Bio/PDB/PDBParser.py:388: PDBConstructionWarning: Ignoring unrecognized record 'END' at line 6733\n",
            "  warnings.warn(\n"
          ]
        }
      ]
    },
    {
      "cell_type": "code",
      "source": [
        "# Using C-N\n",
        "ppb = PPBuilder()\n",
        "for pp in ppb.build_peptides(structure):\n",
        "    print(pp.get_sequence())\n",
        "\n",
        "# # Using CA-CA\n",
        "# ppb = CaPPBuilder()\n",
        "# for pp in ppb.build_peptides(structure):\n",
        "#     print(pp.get_sequence())"
      ],
      "metadata": {
        "colab": {
          "base_uri": "https://localhost:8080/"
        },
        "id": "zNz3mZy8Hmtv",
        "outputId": "b3312afb-f8cb-4cb4-b981-cee38f783ff1"
      },
      "execution_count": 10,
      "outputs": [
        {
          "output_type": "stream",
          "name": "stdout",
          "text": [
            "PYTVVYFPVRGRCAALRMLLADQGQSWKEEVVTVETWQEGSLKASCLYGQLPKFQDGDLTLYQSNTILRHLGRTLGLYGKDQQEAALVDMVNDGVEDLRCKYISLIYTNYEAGKDDYVKALPGQLKPFETLLSQNQGGKTFIVGDQISFADYNLLDLLLIHEVLAPGCLDAFPLLSAYVGRLSARPKLKAFLASPEYVNLPINGNGKQ\n",
            "PYTVVYFPVRGRCAALRMLLADQGQSWKEEVVTVETWQEGSLKASCLYGQLPKFQDGDLTLYQSNTILRHLGRTLGLYGKDQQEAALVDMVNDGVEDLRCKYISLIYTNYEAGKDDYVKALPGQLKPFETLLSQNQGGKTFIVGDQISFADYNLLDLLLIHEVLAPGCLDAFPLLSAYVGRLSARPKLKAFLASPEYVNLPINGNGKQ\n"
          ]
        }
      ]
    },
    {
      "cell_type": "code",
      "source": [
        "# Extract Amino Acid Sequence and Masses\n",
        "ppb = PPBuilder()\n",
        "aa_masses = []\n",
        "total_mass = 0\n",
        "for pp in ppb.build_peptides(structure):\n",
        "  ppb = ProteinAnalysis(pp.get_sequence())\n",
        "  aa_masses+=([ppb.get_amino_acids_percent()[aa] * 100 for aa in ppb.sequence])\n",
        "\n",
        "print(len(aa_masses))"
      ],
      "metadata": {
        "colab": {
          "base_uri": "https://localhost:8080/"
        },
        "id": "XWh3UToBIe3m",
        "outputId": "825e971c-e4cc-4cd0-dea6-b80c339c8c6e"
      },
      "execution_count": 11,
      "outputs": [
        {
          "output_type": "stream",
          "name": "stdout",
          "text": [
            "416\n"
          ]
        }
      ]
    },
    {
      "cell_type": "code",
      "source": [
        "aa_masses = []\n",
        "for residue in structure.get_residues():\n",
        "    if residue.get_resname() !='HOH':\n",
        "        aa_masses.append(ProteinAnalysis(residue.get_resname()).molecular_weight())\n",
        "    # else:\n",
        "    #     # Handle non-standard or modified residues (you might need to estimate their mass)\n",
        "    #     aa_masses.append(0)  # Or some default value"
      ],
      "metadata": {
        "id": "zx0xidGHHZNj"
      },
      "execution_count": 12,
      "outputs": []
    },
    {
      "cell_type": "code",
      "source": [
        "aa_masses"
      ],
      "metadata": {
        "id": "4VZQOfEKHbEX"
      },
      "execution_count": null,
      "outputs": []
    },
    {
      "cell_type": "code",
      "source": [
        "len(aa_masses)"
      ],
      "metadata": {
        "colab": {
          "base_uri": "https://localhost:8080/"
        },
        "id": "EFGQwFPtHozI",
        "outputId": "c1bd17b9-3401-4aca-959f-41ab64876d4e"
      },
      "execution_count": 74,
      "outputs": [
        {
          "output_type": "execute_result",
          "data": {
            "text/plain": [
              "416"
            ]
          },
          "metadata": {},
          "execution_count": 74
        }
      ]
    },
    {
      "cell_type": "code",
      "source": [
        "count=0\n",
        "for residue in structure.get_residues():\n",
        "  if residue.get_resname() == \"HOH\":\n",
        "    continue\n",
        "  print(residue.get_resname())\n",
        "  count+=1\n",
        "print(count)"
      ],
      "metadata": {
        "id": "EHrMT3Xv8zFE"
      },
      "execution_count": null,
      "outputs": []
    },
    {
      "cell_type": "code",
      "source": [
        "# Calculate distances between amino acid Cα atoms and ligand center\n",
        "aa_coords = [residue[\"CA\"].get_coord() for residue in structure.get_residues() if \"CA\" in residue and residue.get_resname()!='HOH']\n",
        "ligand_coord = mol.GetConformer().GetPositions().mean(axis=0)  # Assuming a single conformer\n",
        "distances = cdist(aa_coords, [ligand_coord])\n",
        "\n",
        "# Sort residues by distance (ascending)\n",
        "sorted_indices = distances.argsort(axis=0).flatten()"
      ],
      "metadata": {
        "id": "5jWiJTrJ9BTE"
      },
      "execution_count": 13,
      "outputs": []
    },
    {
      "cell_type": "code",
      "source": [
        "distances"
      ],
      "metadata": {
        "id": "JXDe7tmJZGAr"
      },
      "execution_count": null,
      "outputs": []
    },
    {
      "cell_type": "code",
      "source": [
        "sorted_indices"
      ],
      "metadata": {
        "id": "e4ShiDTjZHrz"
      },
      "execution_count": null,
      "outputs": []
    },
    {
      "cell_type": "code",
      "source": [
        "len(distances)"
      ],
      "metadata": {
        "colab": {
          "base_uri": "https://localhost:8080/"
        },
        "id": "drkGSYloZOFy",
        "outputId": "51b49e8e-1f4f-4925-88e1-7de19f24c0c7"
      },
      "execution_count": 16,
      "outputs": [
        {
          "output_type": "execute_result",
          "data": {
            "text/plain": [
              "416"
            ]
          },
          "metadata": {},
          "execution_count": 16
        }
      ]
    },
    {
      "cell_type": "code",
      "source": [
        "aa_coords[:2]"
      ],
      "metadata": {
        "colab": {
          "base_uri": "https://localhost:8080/"
        },
        "id": "s5VRoLScZT6C",
        "outputId": "69cb73d3-c3dd-4ce8-ba56-2aa6ef3bf714"
      },
      "execution_count": 17,
      "outputs": [
        {
          "output_type": "execute_result",
          "data": {
            "text/plain": [
              "[array([31.195,  2.392, 37.963], dtype=float32),\n",
              " array([28.011,  2.405, 35.85 ], dtype=float32)]"
            ]
          },
          "metadata": {},
          "execution_count": 17
        }
      ]
    },
    {
      "cell_type": "code",
      "source": [
        "# Calculate geometric centers of amino acids and ligand\n",
        "aa_coords_geo = [residue.center_of_mass() for residue in structure.get_residues() if residue.get_resname()!='HOH']\n",
        "ligand_coord = mol.GetConformer().GetPositions().mean(axis=0)"
      ],
      "metadata": {
        "id": "RHu-6yT4aPrb"
      },
      "execution_count": 14,
      "outputs": []
    },
    {
      "cell_type": "code",
      "source": [
        "aa_coords_geo"
      ],
      "metadata": {
        "colab": {
          "base_uri": "https://localhost:8080/"
        },
        "id": "xfRqB6gskbUF",
        "outputId": "2d567606-1b28-4436-a953-9ec76ec2ecd4"
      },
      "execution_count": 15,
      "outputs": [
        {
          "output_type": "execute_result",
          "data": {
            "text/plain": [
              "[array([30.609262 ,  2.3635955, 38.54788  ], dtype=float32),\n",
              " array([29.543512 ,  2.1507502, 34.171734 ], dtype=float32),\n",
              " array([24.124012 ,  3.1547773, 37.21589  ], dtype=float32),\n",
              " array([21.161695 ,  1.5693597, 34.26323  ], dtype=float32),\n",
              " array([17.885176,  4.315529, 35.819168], dtype=float32),\n",
              " array([14.641759 ,  1.8353647, 31.363283 ], dtype=float32),\n",
              " array([11.076965 ,  2.0791984, 32.854645 ], dtype=float32),\n",
              " array([10.912437, -3.25    , 33.443806], dtype=float32),\n",
              " array([11.91381  , -2.6877372, 29.420675 ], dtype=float32),\n",
              " array([14.545206, -6.172326, 25.734114], dtype=float32),\n",
              " array([14.396558 , -0.7723331, 24.712185 ], dtype=float32),\n",
              " array([15.5097065,  4.339846 , 23.434566 ], dtype=float32),\n",
              " array([18.631819  ,  0.47812155, 27.69888   ], dtype=float32),\n",
              " array([19.474785 , -2.8250992, 24.688448 ], dtype=float32),\n",
              " array([22.279606 , -1.3246367, 23.043148 ], dtype=float32),\n",
              " array([23.294706 ,  0.5870327, 26.761873 ], dtype=float32),\n",
              " array([20.999187 , -3.1611154, 28.919832 ], dtype=float32),\n",
              " array([23.89979  , -5.3673787, 23.400936 ], dtype=float32),\n",
              " array([28.314545 , -1.7017657, 24.621937 ], dtype=float32),\n",
              " array([28.297684 , -2.4254403, 28.956972 ], dtype=float32),\n",
              " array([28.547901 , -6.9862576, 27.918636 ], dtype=float32),\n",
              " array([30.77249 , -7.41625 , 23.997263], dtype=float32),\n",
              " array([33.435528 , -4.1464114, 25.562748 ], dtype=float32),\n",
              " array([33.331905 , -6.3347807, 30.0653   ], dtype=float32),\n",
              " array([32.45246  , -3.2497666, 31.19194  ], dtype=float32),\n",
              " array([30.515781 , -3.9944859, 35.303036 ], dtype=float32),\n",
              " array([25.693058 , -3.5306938, 33.720158 ], dtype=float32),\n",
              " array([23.249561 , -1.2604402, 39.660778 ], dtype=float32),\n",
              " array([20.232775 , -2.5398877, 36.157505 ], dtype=float32),\n",
              " array([18.4727   ,  1.1503612, 39.997536 ], dtype=float32),\n",
              " array([14.391116 , -1.3572226, 38.42246  ], dtype=float32),\n",
              " array([11.849481 ,  2.2077303, 37.65271  ], dtype=float32),\n",
              " array([ 8.20067   ,  0.49735555, 38.8554    ], dtype=float32),\n",
              " array([ 4.5897174,  1.9969577, 36.515827 ], dtype=float32),\n",
              " array([ 4.3055577,  1.1444254, 40.66536  ], dtype=float32),\n",
              " array([ 7.846664,  4.309453, 41.383827], dtype=float32),\n",
              " array([ 8.188598,  7.668649, 36.11622 ], dtype=float32),\n",
              " array([ 2.4787793,  6.5949244, 37.910534 ], dtype=float32),\n",
              " array([ 5.555451,  9.325336, 43.253242], dtype=float32),\n",
              " array([ 6.78766 , 11.877275, 40.442234], dtype=float32),\n",
              " array([ 9.652993, 12.072321, 42.500755], dtype=float32),\n",
              " array([12.434336, 10.001797, 39.47082 ], dtype=float32),\n",
              " array([ 8.946016, 12.583994, 35.530746], dtype=float32),\n",
              " array([10.937857, 15.785248, 38.476955], dtype=float32),\n",
              " array([14.584836, 14.558393, 38.932716], dtype=float32),\n",
              " array([14.352692, 13.384179, 35.31506 ], dtype=float32),\n",
              " array([16.846619, 17.288391, 32.277084], dtype=float32),\n",
              " array([15.353755, 16.39362 , 28.809822], dtype=float32),\n",
              " array([11.205544, 13.391887, 32.21142 ], dtype=float32),\n",
              " array([11.8973  , 10.939879, 29.499147], dtype=float32),\n",
              " array([13.928389 ,  7.0742955, 32.13234  ], dtype=float32),\n",
              " array([17.221588,  6.430667, 30.04065 ], dtype=float32),\n",
              " array([19.336203,  8.273377, 35.41027 ], dtype=float32),\n",
              " array([24.455753 ,  6.1804004, 32.634388 ], dtype=float32),\n",
              " array([24.833155,  7.234365, 37.367367], dtype=float32),\n",
              " array([30.361605 ,  7.4524846, 34.742153 ], dtype=float32),\n",
              " array([29.913616,  8.144481, 38.65486 ], dtype=float32),\n",
              " array([30.01439 , 12.421416, 39.430477], dtype=float32),\n",
              " array([28.56395 , 11.891028, 34.749836], dtype=float32),\n",
              " array([24.232573, 12.335199, 35.661255], dtype=float32),\n",
              " array([24.238379, 11.141824, 31.403564], dtype=float32),\n",
              " array([19.44236 , 12.280429, 31.961391], dtype=float32),\n",
              " array([18.870056, 11.531781, 25.871565], dtype=float32),\n",
              " array([19.954342,  6.869416, 24.63979 ], dtype=float32),\n",
              " array([21.712233,  8.168479, 21.465216], dtype=float32),\n",
              " array([24.237822, 10.854531, 25.060158], dtype=float32),\n",
              " array([24.304672 ,  6.9242187, 27.203869 ], dtype=float32),\n",
              " array([25.410328,  4.843404, 22.98018 ], dtype=float32),\n",
              " array([26.985294,  9.480634, 20.486225], dtype=float32),\n",
              " array([30.21624 ,  8.632418, 27.576574], dtype=float32),\n",
              " array([29.984346,  4.340183, 26.605925], dtype=float32),\n",
              " array([32.4726  ,  5.239332, 22.756102], dtype=float32),\n",
              " array([33.16508 ,  9.934238, 23.500404], dtype=float32),\n",
              " array([35.066998,  6.318771, 27.177399], dtype=float32),\n",
              " array([35.047783 ,  2.2074475, 26.037743 ], dtype=float32),\n",
              " array([36.746185 ,  3.0107634, 21.731606 ], dtype=float32),\n",
              " array([33.471687 ,  1.8310089, 20.724644 ], dtype=float32),\n",
              " array([32.704857,  7.735585, 18.095312], dtype=float32),\n",
              " array([36.631992,  5.050699, 15.558147], dtype=float32),\n",
              " array([40.46257 ,  5.007197, 12.346646], dtype=float32),\n",
              " array([39.37005 ,  8.529573, 11.973572], dtype=float32),\n",
              " array([37.84622 , 13.366428, 12.80079 ], dtype=float32),\n",
              " array([36.467255 ,  9.836118 ,  7.6371365], dtype=float32),\n",
              " array([35.93324  ,  5.8891478, 10.873727 ], dtype=float32),\n",
              " array([33.192844,  9.402696, 13.538271], dtype=float32),\n",
              " array([31.125278, 10.761942, 10.960043], dtype=float32),\n",
              " array([30.82376  ,  7.5060596,  8.753383 ], dtype=float32),\n",
              " array([29.551975,  6.10484 , 13.482774], dtype=float32),\n",
              " array([27.50743 ,  9.906558, 14.165826], dtype=float32),\n",
              " array([25.79824 ,  8.725696,  8.510958], dtype=float32),\n",
              " array([24.91014 ,  4.717208, 11.081396], dtype=float32),\n",
              " array([23.239635 ,  6.0857835, 15.52519  ], dtype=float32),\n",
              " array([21.62057 ,  9.690869, 13.25792 ], dtype=float32),\n",
              " array([19.411757,  6.200766, 11.188866], dtype=float32),\n",
              " array([19.301252,  3.552453, 13.778684], dtype=float32),\n",
              " array([16.92332 ,  7.297367, 16.490421], dtype=float32),\n",
              " array([15.413773,  8.293468, 12.061691], dtype=float32),\n",
              " array([13.797364 ,  2.9433837, 11.68792  ], dtype=float32),\n",
              " array([14.958476 ,  2.5978956, 17.614101 ], dtype=float32),\n",
              " array([11.493091 ,  7.1027718, 16.180714 ], dtype=float32),\n",
              " array([ 9.697177,  5.372296, 11.621642], dtype=float32),\n",
              " array([ 9.551465 , -0.3260286, 16.697163 ], dtype=float32),\n",
              " array([ 8.74898  ,  3.8161767, 19.105755 ], dtype=float32),\n",
              " array([ 5.0320106,  5.2860136, 16.413397 ], dtype=float32),\n",
              " array([ 3.911513 ,  0.8677132, 15.059739 ], dtype=float32),\n",
              " array([ 4.7491474 , -0.41062078, 19.161766  ], dtype=float32),\n",
              " array([ 4.487253 ,  2.5419476, 22.518799 ], dtype=float32),\n",
              " array([ 0.40289494,  5.17116   , 18.111462  ], dtype=float32),\n",
              " array([-0.6658887,  2.6276648, 14.84171  ], dtype=float32),\n",
              " array([ 0.97881824, -3.6305125 , 16.418268  ], dtype=float32),\n",
              " array([-3.2824628, -3.059586 , 16.188341 ], dtype=float32),\n",
              " array([-3.4854708 , -0.49706998, 11.945669  ], dtype=float32),\n",
              " array([ 0.06834321, -0.21396434, 10.843307  ], dtype=float32),\n",
              " array([ 2.0450833, -4.8892493, 11.746212 ], dtype=float32),\n",
              " array([ 0.10111865, -4.5532236 ,  7.4949894 ], dtype=float32),\n",
              " array([ 1.2530581 , -0.15733276,  5.7345743 ], dtype=float32),\n",
              " array([ 6.8395867 , -0.45097893,  9.790373  ], dtype=float32),\n",
              " array([ 6.065586 , -4.7566023,  7.0447893], dtype=float32),\n",
              " array([ 3.7065141, -3.1695037,  3.0687306], dtype=float32),\n",
              " array([ 8.218684  , -0.11973791,  4.037478  ], dtype=float32),\n",
              " array([10.894678, -2.641128,  6.571288], dtype=float32),\n",
              " array([12.213464 , -3.0800087,  2.5670357], dtype=float32),\n",
              " array([13.6197815,  0.6892777,  2.300138 ], dtype=float32),\n",
              " array([13.394609 ,  2.2122328,  5.808419 ], dtype=float32),\n",
              " array([16.387812 , -2.3049467,  6.0792027], dtype=float32),\n",
              " array([17.45342   , -1.1835821 ,  0.50251204], dtype=float32),\n",
              " array([20.169243 ,  2.0125473,  3.6615546], dtype=float32),\n",
              " array([21.362541 ,  0.3513883,  7.3204594], dtype=float32),\n",
              " array([22.776747 , -4.3687906,  2.6411085], dtype=float32),\n",
              " array([24.407688  ,  0.13752913,  0.9534437 ], dtype=float32),\n",
              " array([26.483324 ,  1.4630917,  4.6996064], dtype=float32),\n",
              " array([27.555305 , -3.5687656,  5.177014 ], dtype=float32),\n",
              " array([28.406363  , -2.9458115 ,  0.39425576], dtype=float32),\n",
              " array([29.921001  ,  1.0425804 ,  0.49363768], dtype=float32),\n",
              " array([32.992306 , -1.8581804,  4.9220037], dtype=float32),\n",
              " array([35.957687 , -4.56734  ,  4.3338294], dtype=float32),\n",
              " array([31.77899  , -6.561984 ,  1.8097793], dtype=float32),\n",
              " array([30.495014, -7.063957,  4.819124], dtype=float32),\n",
              " array([ 33.41502  , -10.148404 ,   5.3205395], dtype=float32),\n",
              " array([33.66532  , -6.2893314,  9.008288 ], dtype=float32),\n",
              " array([32.58569 , -4.533263, 12.213421], dtype=float32),\n",
              " array([28.497011 , -0.5409513,  9.783625 ], dtype=float32),\n",
              " array([32.091854 ,  1.8232003, 10.302568 ], dtype=float32),\n",
              " array([35.20049   , -0.33565155,  9.464991  ], dtype=float32),\n",
              " array([38.610806 , -2.5458417, 11.078925 ], dtype=float32),\n",
              " array([37.077778 , -0.5085229, 14.974768 ], dtype=float32),\n",
              " array([32.88767  , -2.7880168, 17.244541 ], dtype=float32),\n",
              " array([30.815533  ,  0.74714136, 16.797255  ], dtype=float32),\n",
              " array([28.161497 ,  3.9174113, 18.966858 ], dtype=float32),\n",
              " array([26.473946 ,  1.7149985, 15.863819 ], dtype=float32),\n",
              " array([27.765572 , -1.9388447, 15.2761755], dtype=float32),\n",
              " array([27.085941 , -2.9474943, 20.082714 ], dtype=float32),\n",
              " array([21.70505  ,  0.8844595, 17.991844 ], dtype=float32),\n",
              " array([22.140268 , -1.7485591, 13.474828 ], dtype=float32),\n",
              " array([22.33338 , -5.911953, 16.441896], dtype=float32),\n",
              " array([18.446371 , -3.6461825, 18.983946 ], dtype=float32),\n",
              " array([16.884981 , -1.7772579, 14.778197 ], dtype=float32),\n",
              " array([18.363016 , -5.5803785, 12.74651  ], dtype=float32),\n",
              " array([17.46192 , -8.459531, 16.791227], dtype=float32),\n",
              " array([13.46599 , -5.223905, 17.32988 ], dtype=float32),\n",
              " array([12.52748  , -4.7137527, 12.981744 ], dtype=float32),\n",
              " array([ 13.729286, -10.908701,  12.611268], dtype=float32),\n",
              " array([ 10.311205, -10.068172,  16.563807], dtype=float32),\n",
              " array([ 7.6773453, -6.7686644, 13.853241 ], dtype=float32),\n",
              " array([ 9.10944 , -9.113056, 10.633472], dtype=float32),\n",
              " array([  9.164854, -12.609919,  10.781812], dtype=float32),\n",
              " array([ 12.279625 , -12.478478 ,   7.4757867], dtype=float32),\n",
              " array([12.8917265, -8.787701 ,  7.6304393], dtype=float32),\n",
              " array([16.83923 , -9.648271,  7.49209 ], dtype=float32),\n",
              " array([ 15.349923 , -13.391697 ,   4.2171383], dtype=float32),\n",
              " array([16.48317  , -9.742412 ,  1.1809285], dtype=float32),\n",
              " array([18.251465 , -7.3142495,  3.017319 ], dtype=float32),\n",
              " array([ 22.471575 , -10.872313 ,   2.1566832], dtype=float32),\n",
              " array([25.438505, -8.286354,  3.601726], dtype=float32),\n",
              " array([21.944437 , -6.9607654,  7.1104   ], dtype=float32),\n",
              " array([ 21.724022 , -11.691164 ,   7.5940814], dtype=float32),\n",
              " array([ 25.679274 , -12.098504 ,   8.1713505], dtype=float32),\n",
              " array([26.071327 , -7.0251417, 11.066438 ], dtype=float32),\n",
              " array([ 22.946001, -10.493691,  12.706928], dtype=float32),\n",
              " array([ 25.354124 , -13.617165 ,  13.1567745], dtype=float32),\n",
              " array([ 29.437426, -11.408126,  11.382325], dtype=float32),\n",
              " array([27.77586 , -9.181669, 15.712744], dtype=float32),\n",
              " array([ 25.109425, -12.815165,  17.552294], dtype=float32),\n",
              " array([ 28.786263, -14.958702,  17.841816], dtype=float32),\n",
              " array([ 31.28166 , -10.512028,  19.413845], dtype=float32),\n",
              " array([ 31.784868, -14.49241 ,  22.825151], dtype=float32),\n",
              " array([ 31.741137, -11.468051,  26.397724], dtype=float32),\n",
              " array([ 26.782822, -10.373814,  22.713598], dtype=float32),\n",
              " array([ 26.261068, -16.498158,  22.375076], dtype=float32),\n",
              " array([ 25.907185, -14.927568,  26.809725], dtype=float32),\n",
              " array([ 23.450891, -10.158912,  27.555353], dtype=float32),\n",
              " array([ 21.683943, -12.146954,  23.700315], dtype=float32),\n",
              " array([ 20.89538 , -16.119596,  26.614792], dtype=float32),\n",
              " array([ 20.510084, -14.01457 ,  29.654686], dtype=float32),\n",
              " array([ 17.864862, -14.409765,  32.204937], dtype=float32),\n",
              " array([20.017342, -9.755102, 32.4775  ], dtype=float32),\n",
              " array([17.91712 , -9.805701, 26.14489 ], dtype=float32),\n",
              " array([ 15.293538, -13.492954,  27.529974], dtype=float32),\n",
              " array([ 13.054699, -13.124859,  31.093542], dtype=float32),\n",
              " array([13.285814, -8.016304, 29.940159], dtype=float32),\n",
              " array([ 9.868221 , -6.8810453, 28.111101 ], dtype=float32),\n",
              " array([10.979907 , -5.6429906, 23.414915 ], dtype=float32),\n",
              " array([ 8.261004 , -2.8717086, 23.9446   ], dtype=float32),\n",
              " array([ 5.776693 , -1.4792501, 27.691015 ], dtype=float32),\n",
              " array([ 2.8916245, -2.0991235, 24.946634 ], dtype=float32),\n",
              " array([ 3.5575812, -5.993738 , 24.967659 ], dtype=float32),\n",
              " array([ 2.1967187, -4.1304607, 21.61806  ], dtype=float32),\n",
              " array([ 6.694098, -8.174261, 19.999773], dtype=float32),\n",
              " array([35.55519  , 23.143078 ,  0.6078598], dtype=float32),\n",
              " array([33.165936 , 23.176645 ,  4.4332094], dtype=float32),\n",
              " array([29.082064  , 21.68401   , -0.14870487], dtype=float32),\n",
              " array([25.213589 , 22.920694 ,  1.7317574], dtype=float32),\n",
              " array([22.874767 , 19.890907 , -0.7262586], dtype=float32),\n",
              " array([18.177582 , 21.953285 ,  2.4657388], dtype=float32),\n",
              " array([15.29283   , 21.3867    , -0.05229388], dtype=float32),\n",
              " array([14.787205  , 26.681162  , -0.73766005], dtype=float32),\n",
              " array([14.543703 , 26.149416 ,  3.4012067], dtype=float32),\n",
              " array([15.535968, 29.811464,  7.674473], dtype=float32),\n",
              " array([15.622206, 24.406807,  8.676728], dtype=float32),\n",
              " array([16.78814 , 19.409842, 10.308653], dtype=float32),\n",
              " array([20.67152  , 23.636642 ,  7.1683345], dtype=float32),\n",
              " array([20.207565, 26.955626, 10.248315], dtype=float32),\n",
              " array([22.500612, 25.70832 , 12.704389], dtype=float32),\n",
              " array([24.803461, 23.976185,  9.510064], dtype=float32),\n",
              " array([22.929071, 27.514463,  6.695895], dtype=float32),\n",
              " array([23.734585, 29.896957, 12.811597], dtype=float32),\n",
              " array([28.656055, 26.712618, 13.073213], dtype=float32),\n",
              " array([29.91319 , 27.506128,  8.938824], dtype=float32),\n",
              " array([29.375795, 32.047493,  9.936269], dtype=float32),\n",
              " array([30.198786, 32.622036, 14.34751 ], dtype=float32),\n",
              " array([33.54703 , 29.658302, 13.740899], dtype=float32),\n",
              " array([34.628212, 31.917953,  9.394608], dtype=float32),\n",
              " array([34.450542, 28.77209 ,  8.100052], dtype=float32),\n",
              " array([33.82699  , 29.402805 ,  3.5709653], dtype=float32),\n",
              " array([28.82078 , 28.43453 ,  3.583882], dtype=float32),\n",
              " array([28.58221 , 26.037266, -2.785124], dtype=float32),\n",
              " array([24.521198  , 26.94663   , -0.41503924], dtype=float32),\n",
              " array([24.408804 , 23.16957  , -4.5555153], dtype=float32),\n",
              " array([19.812006, 25.23236 , -4.364153], dtype=float32),\n",
              " array([17.528625, 21.42478 , -4.370226], dtype=float32),\n",
              " array([14.281745, 22.781862, -6.670752], dtype=float32),\n",
              " array([10.291764, 20.890148, -5.549281], dtype=float32),\n",
              " array([11.227614, 21.782024, -9.589721], dtype=float32),\n",
              " array([15.1132345, 18.99909  , -9.13102  ], dtype=float32),\n",
              " array([14.13661  , 15.597871 , -3.9714668], dtype=float32),\n",
              " array([ 9.190257 , 16.13327  , -7.4652534], dtype=float32),\n",
              " array([ 14.029688,  13.80907 , -11.556591], dtype=float32),\n",
              " array([14.571911, 11.34426 , -8.46125 ], dtype=float32),\n",
              " array([17.942444, 11.473012, -9.525937], dtype=float32),\n",
              " array([19.425936 , 13.753874 , -5.8083925], dtype=float32),\n",
              " array([15.161987 , 10.7696295, -3.1101255], dtype=float32),\n",
              " array([18.278605 ,  7.8369975, -5.2460623], dtype=float32),\n",
              " array([21.745142 ,  9.426501 , -4.5661445], dtype=float32),\n",
              " array([20.290766 , 10.507173 , -1.2168494], dtype=float32),\n",
              " array([22.09268  ,  6.8178306,  2.499028 ], dtype=float32),\n",
              " array([19.511147 ,  7.4929595,  5.3182383], dtype=float32),\n",
              " array([16.349354 , 10.132509 ,  0.7537635], dtype=float32),\n",
              " array([15.882695, 12.600227,  3.495364], dtype=float32),\n",
              " array([18.266563 , 16.686357 ,  1.5900803], dtype=float32),\n",
              " array([20.667362 , 17.617231 ,  4.5917497], dtype=float32),\n",
              " array([24.514685  , 16.086437  ,  0.16799948], dtype=float32),\n",
              " array([28.285122, 18.62893 ,  4.368506], dtype=float32),\n",
              " array([ 3.0219076e+01,  1.7706465e+01, -3.2560437e-03], dtype=float32),\n",
              " array([34.64715  , 18.001995 ,  4.2223706], dtype=float32),\n",
              " array([35.51233   , 17.325773  ,  0.36738685], dtype=float32),\n",
              " array([36.27676   , 13.099415  , -0.27351758], dtype=float32),\n",
              " array([33.396885 , 13.393079 ,  3.7150683], dtype=float32),\n",
              " array([29.630552 , 12.538162 ,  1.5124447], dtype=float32),\n",
              " array([28.191633 , 13.649327 ,  5.5408764], dtype=float32),\n",
              " array([23.942461 , 12.054235 ,  3.5377176], dtype=float32),\n",
              " array([21.435024, 12.629008,  9.12749 ], dtype=float32),\n",
              " array([21.610392, 17.36984 , 10.582043], dtype=float32),\n",
              " array([22.41881 , 16.178467, 14.155097], dtype=float32),\n",
              " array([26.191391, 13.823211, 11.565582], dtype=float32),\n",
              " array([26.530848, 17.777603,  9.493369], dtype=float32),\n",
              " array([26.05322 , 19.880943, 13.825554], dtype=float32),\n",
              " array([27.233332, 15.381925, 16.747232], dtype=float32),\n",
              " array([32.406193, 16.673588, 11.006576], dtype=float32),\n",
              " array([31.453314, 20.901337, 11.79174 ], dtype=float32),\n",
              " array([32.702858, 20.188797, 16.234018], dtype=float32),\n",
              " array([34.058613, 15.597246, 15.807547], dtype=float32),\n",
              " array([36.635857, 19.446321, 12.853839], dtype=float32),\n",
              " array([35.853027, 23.515137, 13.872917], dtype=float32),\n",
              " array([36.20231 , 22.804401, 18.506277], dtype=float32),\n",
              " array([32.674934, 23.638752, 18.430277], dtype=float32),\n",
              " array([31.724222, 17.643171, 20.771152], dtype=float32),\n",
              " array([34.379105, 20.655302, 24.367222], dtype=float32),\n",
              " array([37.00085 , 21.022547, 28.60862 ], dtype=float32),\n",
              " array([36.20331 , 17.40344 , 28.671196], dtype=float32),\n",
              " array([35.502483, 12.45683 , 27.484653], dtype=float32),\n",
              " array([32.249832, 15.741446, 31.905254], dtype=float32),\n",
              " array([32.344944, 19.669603, 28.617102], dtype=float32),\n",
              " array([30.935226, 15.952685, 25.279137], dtype=float32),\n",
              " array([28.316053, 14.348751, 27.106318], dtype=float32),\n",
              " array([27.020678, 17.521055, 29.063887], dtype=float32),\n",
              " array([27.145914, 18.871346, 24.154085], dtype=float32),\n",
              " array([25.810528, 14.906108, 22.934885], dtype=float32),\n",
              " array([22.316755, 15.808305, 27.750032], dtype=float32),\n",
              " array([21.877535, 19.74877 , 24.976784], dtype=float32),\n",
              " array([21.816223, 18.297176, 20.252096], dtype=float32),\n",
              " array([19.949137, 14.517512, 21.955032], dtype=float32),\n",
              " array([16.856987, 17.727291, 23.19034 ], dtype=float32),\n",
              " array([17.295094, 20.398014, 20.650528], dtype=float32),\n",
              " array([16.262884, 16.48331 , 17.38928 ], dtype=float32),\n",
              " array([13.570934 , 15.2688675, 21.142155 ], dtype=float32),\n",
              " array([11.382025, 20.42006 , 20.920639], dtype=float32),\n",
              " array([14.286532, 20.982107, 15.645658], dtype=float32),\n",
              " array([11.014397, 16.132248, 15.991345], dtype=float32),\n",
              " array([ 7.7249846, 17.596045 , 19.745703 ], dtype=float32),\n",
              " array([ 8.595337, 23.343643, 14.801071], dtype=float32),\n",
              " array([ 9.000582, 19.180836, 12.316488], dtype=float32),\n",
              " array([ 4.796942, 17.302683, 13.743648], dtype=float32),\n",
              " array([ 2.8752491, 21.564974 , 14.61697  ], dtype=float32),\n",
              " array([ 4.809157, 22.990278, 10.961625], dtype=float32),\n",
              " array([ 5.9017677, 20.086842 ,  7.724462 ], dtype=float32),\n",
              " array([ 0.93935394, 16.990816  , 10.68679   ], dtype=float32),\n",
              " array([-1.3398948, 19.35468  , 13.4248295], dtype=float32),\n",
              " array([ 0.07672965, 25.774115  , 12.350297  ], dtype=float32),\n",
              " array([-3.9597864, 24.78086  , 11.256999 ], dtype=float32),\n",
              " array([-5.220044, 22.134544, 15.259471], dtype=float32),\n",
              " array([-2.173219, 22.187181, 17.41412 ], dtype=float32),\n",
              " array([-0.49266124, 27.049297  , 17.103613  ], dtype=float32),\n",
              " array([-3.6170192, 26.444294 , 20.537731 ], dtype=float32),\n",
              " array([-2.636435, 22.151047, 22.649591], dtype=float32),\n",
              " array([ 3.87774 , 23.074612, 20.51618 ], dtype=float32),\n",
              " array([ 1.8635782, 27.232721 , 22.82365  ], dtype=float32),\n",
              " array([-1.446004, 25.34657 , 25.894602], dtype=float32),\n",
              " array([ 3.4262314, 22.777645 , 26.416157 ], dtype=float32),\n",
              " array([ 6.4921646, 25.596504 , 24.802624 ], dtype=float32),\n",
              " array([ 6.450555, 26.094854, 29.014248], dtype=float32),\n",
              " array([ 8.0770035, 22.479862 , 29.756275 ], dtype=float32),\n",
              " array([ 9.103798, 21.009754, 26.37612 ], dtype=float32),\n",
              " array([11.566466, 25.798925, 26.982553], dtype=float32),\n",
              " array([10.953586, 24.688354, 32.6296  ], dtype=float32),\n",
              " array([14.82049 , 21.835434, 30.514484], dtype=float32),\n",
              " array([16.92008 , 23.671183, 27.384945], dtype=float32),\n",
              " array([16.33436 , 28.431042, 32.21041 ], dtype=float32),\n",
              " array([17.801731, 24.075695, 34.37975 ], dtype=float32),\n",
              " array([21.054153, 23.028904, 31.484108], dtype=float32),\n",
              " array([21.714907, 28.146984, 31.292751], dtype=float32),\n",
              " array([21.098291, 27.525959, 36.109146], dtype=float32),\n",
              " array([22.965809, 23.710669, 36.544083], dtype=float32),\n",
              " array([26.952486, 26.961185, 33.247257], dtype=float32),\n",
              " array([29.293272, 29.959019, 34.682655], dtype=float32),\n",
              " array([24.363216, 31.4854  , 35.76083 ], dtype=float32),\n",
              " array([24.036978, 31.908371, 32.492523], dtype=float32),\n",
              " array([26.6479  , 35.27772 , 32.884052], dtype=float32),\n",
              " array([28.412844, 31.530638, 29.509363], dtype=float32),\n",
              " array([28.558466, 29.734838, 26.154037], dtype=float32),\n",
              " array([24.340754, 25.311968, 27.247559], dtype=float32),\n",
              " array([28.13485 , 23.324102, 27.906338], dtype=float32),\n",
              " array([30.595032, 25.768555, 29.63824 ], dtype=float32),\n",
              " array([34.10198 , 28.33389 , 29.128323], dtype=float32),\n",
              " array([34.066887, 26.218866, 24.984013], dtype=float32),\n",
              " array([30.583914, 28.11664 , 21.490265], dtype=float32),\n",
              " array([28.835104, 24.383863, 21.321203], dtype=float32),\n",
              " array([27.319023, 21.00417 , 18.477999], dtype=float32),\n",
              " array([24.541466, 22.97308 , 20.871109], dtype=float32),\n",
              " array([25.214989, 26.7337  , 21.781797], dtype=float32),\n",
              " array([25.96238 , 27.750238, 16.988258], dtype=float32),\n",
              " array([20.609802, 23.363472, 17.36003 ], dtype=float32),\n",
              " array([19.357672, 25.94693 , 21.74878 ], dtype=float32),\n",
              " array([20.043314, 30.162333, 18.927296], dtype=float32),\n",
              " array([17.403894, 27.5606  , 15.326534], dtype=float32),\n",
              " array([14.789052, 25.479057, 18.880249], dtype=float32),\n",
              " array([15.175731, 29.374043, 21.215498], dtype=float32),\n",
              " array([15.290675, 32.21761 , 17.051937], dtype=float32),\n",
              " array([12.004937, 28.61319 , 15.33996 ], dtype=float32),\n",
              " array([ 9.818368, 27.93458 , 19.187742], dtype=float32),\n",
              " array([10.2277355, 34.212185 , 19.829277 ], dtype=float32),\n",
              " array([ 8.302325, 33.106304, 15.02151 ], dtype=float32),\n",
              " array([ 5.300215, 29.51658 , 16.828783], dtype=float32),\n",
              " array([ 5.424894, 31.93147 , 20.29683 ], dtype=float32),\n",
              " array([ 5.170589, 35.419014, 20.125956], dtype=float32),\n",
              " array([ 7.1043816, 35.539936 , 24.236486 ], dtype=float32),\n",
              " array([ 8.098793, 31.929193, 24.332884], dtype=float32),\n",
              " array([11.696825, 33.176384, 25.675955], dtype=float32),\n",
              " array([ 8.900467, 36.697937, 28.272535], dtype=float32),\n",
              " array([ 9.395692, 33.13129 , 31.571585], dtype=float32),\n",
              " array([11.8755865, 30.91729  , 30.404404 ], dtype=float32),\n",
              " array([15.247421, 34.855568, 32.48329 ], dtype=float32),\n",
              " array([18.757374, 32.604214, 32.066666], dtype=float32),\n",
              " array([16.673605, 30.999825, 27.664862], dtype=float32),\n",
              " array([16.146467, 35.692303, 27.071394], dtype=float32),\n",
              " array([20.021257, 36.49972 , 27.743233], dtype=float32),\n",
              " array([21.797354, 31.543873, 25.185993], dtype=float32),\n",
              " array([19.008013, 34.71336 , 22.60625 ], dtype=float32),\n",
              " array([21.111282, 38.07088 , 22.884789], dtype=float32),\n",
              " array([24.640675, 36.24336 , 25.868656], dtype=float32),\n",
              " array([24.635307, 33.942387, 21.268707], dtype=float32),\n",
              " array([22.322376, 37.32657 , 18.63851 ], dtype=float32),\n",
              " array([25.673492, 39.82893 , 19.47549 ], dtype=float32),\n",
              " array([28.965652, 35.67828 , 18.823162], dtype=float32),\n",
              " array([30.105669, 39.74812 , 15.678999], dtype=float32),\n",
              " array([31.472502, 36.80054 , 12.312521], dtype=float32),\n",
              " array([25.750216, 35.15274 , 14.289739], dtype=float32),\n",
              " array([24.541073, 41.191063, 14.362878], dtype=float32),\n",
              " array([25.73748 , 39.67023 , 10.060036], dtype=float32),\n",
              " array([24.123205, 34.695435,  8.657343], dtype=float32),\n",
              " array([21.059593, 36.430195, 11.747205], dtype=float32),\n",
              " array([20.825602, 40.35541 ,  8.671586], dtype=float32),\n",
              " array([21.609507 , 38.275066 ,  5.6917334], dtype=float32),\n",
              " array([19.861166, 38.453903,  2.443513], dtype=float32),\n",
              " array([22.440886, 34.040565,  2.910765], dtype=float32),\n",
              " array([18.489273, 33.771885,  8.282193], dtype=float32),\n",
              " array([16.072233 , 37.205532 ,  6.1011653], dtype=float32),\n",
              " array([15.094098, 36.684723,  2.024563], dtype=float32),\n",
              " array([15.469425 , 31.598297 ,  3.2606745], dtype=float32),\n",
              " array([11.781846, 30.094292,  3.952335], dtype=float32),\n",
              " array([11.504692, 28.891752,  8.778016], dtype=float32),\n",
              " array([ 9.368226, 25.864511,  7.468824], dtype=float32),\n",
              " array([ 8.325847 , 24.306522 ,  3.1569834], dtype=float32),\n",
              " array([ 4.677932, 24.585928,  4.859997], dtype=float32),\n",
              " array([ 4.927469 , 28.531017 ,  4.9884963], dtype=float32),\n",
              " array([ 2.7904582, 26.483335 ,  7.780104 ], dtype=float32),\n",
              " array([ 6.167828, 30.899244, 10.6424  ], dtype=float32)]"
            ]
          },
          "metadata": {},
          "execution_count": 15
        }
      ]
    },
    {
      "cell_type": "code",
      "source": [
        "distances_geo = cdist(aa_coords_geo, [ligand_coord])\n",
        "\n",
        "# Sort residues by distance (ascending)\n",
        "sorted_indices_geo = distances_geo.argsort(axis=0).flatten()"
      ],
      "metadata": {
        "id": "o5uH92vmcsXK"
      },
      "execution_count": 71,
      "outputs": []
    },
    {
      "cell_type": "code",
      "source": [
        "sorted_indices_geo"
      ],
      "metadata": {
        "colab": {
          "base_uri": "https://localhost:8080/"
        },
        "id": "KOuYZ15hc16h",
        "outputId": "55e8aa6e-ff14-4ae7-cf46-e98157aff1b9"
      },
      "execution_count": 72,
      "outputs": [
        {
          "output_type": "execute_result",
          "data": {
            "text/plain": [
              "array([ 49,  50,   6,   5,  51,  11,  48,  36, 106, 203,  10,  42, 102,\n",
              "         8,  62, 202,  63,  31,  45,  12,  33,  47,   7,   4, 304, 204,\n",
              "        61,  99,  52,  41,  37,  98,  32, 105, 103, 201,  46, 101, 200,\n",
              "        35,  95,  39,  64,  43, 107,  30, 308,   3, 301,   9,  13,  44,\n",
              "       300, 331,  66, 205, 206,  34,  15,  16, 199,  65,  53,  40, 307,\n",
              "        60, 297, 104, 305,  14,  29, 303, 330,  38, 334,  28, 155, 159,\n",
              "        67, 100, 152,  96,  59, 207, 302,   2,  97, 156, 327, 108,  94,\n",
              "        54, 109, 298, 335,  91, 299, 196, 311, 333, 296, 324,  68,  17,\n",
              "       160, 332,  92,  27, 328, 306,  93, 329,  26, 163, 195, 116, 293,\n",
              "       338, 337, 310, 110, 294, 198,  70, 162, 158,  69,  58, 323,  18,\n",
              "        19, 148, 153, 197, 112, 272,   1, 312, 149, 154, 309, 151, 157,\n",
              "       364, 295, 113,  55, 190, 326, 315, 111, 320, 316, 361, 276, 360,\n",
              "       325,  56, 191,  88,  90, 219, 194, 368, 336, 270, 123, 341, 357,\n",
              "       292,  20,  71, 193, 120, 349, 164, 271,   0, 150, 161,  57,  72,\n",
              "       313, 365, 117, 273, 379,  25, 290, 356,  87, 147, 127, 187, 314,\n",
              "       339, 350, 124, 255,  24, 115, 340,  77, 322, 319, 119, 382,  76,\n",
              "        73, 275, 321,  89, 367, 192, 114, 375, 285, 363,  21,  74, 371,\n",
              "       167, 291, 165, 358, 257,  22, 289, 317, 178, 376, 378, 372, 122,\n",
              "       355, 218,  23, 182, 126, 342, 181, 189, 362, 141, 146, 168, 177,\n",
              "       274, 121, 222, 118,  85, 381,  84, 385, 174,  75, 259, 410, 351,\n",
              "       318, 166, 366, 256, 254, 288, 286, 186,  86, 280, 369, 359, 269,\n",
              "       184, 221, 142, 380, 220, 188, 279, 374, 414, 130, 345, 409, 223,\n",
              "       370, 258,  78, 179, 383, 344, 348, 125, 412, 268, 386, 140, 377,\n",
              "       171, 277, 284, 175, 415, 373, 354, 411, 278, 183, 128, 287, 131,\n",
              "       213, 185, 343, 347, 225, 145, 353,  83, 226, 217, 253, 384, 180,\n",
              "       129, 176, 389, 169, 216, 250, 413, 214, 170, 143, 283, 261, 352,\n",
              "       224,  81, 173, 260, 388, 139, 281, 346, 244, 408, 267, 387,  80,\n",
              "        82, 172, 134, 137, 282, 212, 390, 251,  79, 211, 266, 404, 133,\n",
              "       227, 144, 132, 252, 395, 215, 407, 229, 399, 392, 249, 230, 263,\n",
              "       262, 239, 241, 136, 228, 245, 138, 398, 209, 135, 247, 210, 391,\n",
              "       234, 236, 405, 240, 232, 238, 248, 403, 264, 265, 237, 243, 396,\n",
              "       231, 406, 394, 400, 401, 246, 242, 393, 397, 235, 208, 233, 402])"
            ]
          },
          "metadata": {},
          "execution_count": 72
        }
      ]
    },
    {
      "cell_type": "code",
      "source": [
        "len(distances_geo)"
      ],
      "metadata": {
        "colab": {
          "base_uri": "https://localhost:8080/"
        },
        "id": "7u1YXfDqc3IK",
        "outputId": "2baccdc6-2eb1-4a3c-8c2e-1bc0adbb0c1d"
      },
      "execution_count": 73,
      "outputs": [
        {
          "output_type": "execute_result",
          "data": {
            "text/plain": [
              "416"
            ]
          },
          "metadata": {},
          "execution_count": 73
        }
      ]
    },
    {
      "cell_type": "code",
      "source": [
        "# Select residues to keep (based on max_length)\n",
        "residues_to_keep = sorted_indices_geo[:max_length]\n",
        "residues_to_remove = sorted_indices_geo[max_length:]\n"
      ],
      "metadata": {
        "id": "cpvvOcqaeeRZ"
      },
      "execution_count": 74,
      "outputs": []
    },
    {
      "cell_type": "code",
      "source": [
        "residues_to_keep"
      ],
      "metadata": {
        "colab": {
          "base_uri": "https://localhost:8080/"
        },
        "id": "YZo1Sk4RJi3a",
        "outputId": "90c24a2e-1e17-403c-cecc-eeedf0305f87"
      },
      "execution_count": 75,
      "outputs": [
        {
          "output_type": "execute_result",
          "data": {
            "text/plain": [
              "array([ 49,  50,   6,   5,  51,  11,  48,  36, 106, 203,  10,  42, 102,\n",
              "         8,  62, 202,  63,  31,  45,  12,  33,  47,   7,   4, 304, 204,\n",
              "        61,  99,  52,  41,  37,  98,  32, 105, 103, 201,  46, 101, 200,\n",
              "        35,  95,  39,  64,  43, 107,  30, 308,   3, 301,   9,  13,  44,\n",
              "       300, 331,  66, 205, 206,  34,  15,  16, 199,  65,  53,  40, 307,\n",
              "        60, 297, 104, 305,  14,  29, 303, 330,  38, 334,  28, 155, 159,\n",
              "        67, 100, 152,  96,  59, 207, 302,   2,  97, 156, 327, 108,  94,\n",
              "        54, 109, 298, 335,  91, 299, 196, 311, 333, 296, 324,  68,  17,\n",
              "       160, 332,  92,  27, 328, 306,  93, 329,  26, 163, 195, 116, 293,\n",
              "       338, 337, 310, 110, 294, 198,  70, 162, 158,  69,  58, 323,  18,\n",
              "        19, 148, 153, 197, 112, 272,   1, 312, 149, 154, 309, 151, 157,\n",
              "       364, 295, 113,  55, 190, 326, 315, 111, 320, 316, 361, 276, 360,\n",
              "       325,  56, 191,  88,  90, 219, 194, 368, 336, 270, 123, 341, 357,\n",
              "       292,  20,  71, 193, 120, 349, 164, 271,   0, 150, 161,  57,  72,\n",
              "       313, 365, 117, 273, 379,  25, 290, 356,  87, 147, 127, 187, 314,\n",
              "       339, 350, 124, 255,  24, 115, 340,  77, 322, 319, 119, 382,  76,\n",
              "        73, 275, 321,  89, 367, 192, 114, 375, 285, 363,  21,  74, 371,\n",
              "       167, 291, 165, 358, 257,  22, 289, 317, 178, 376, 378, 372, 122,\n",
              "       355, 218,  23, 182, 126, 342, 181, 189, 362, 141, 146, 168, 177,\n",
              "       274, 121, 222, 118,  85, 381,  84, 385, 174,  75, 259, 410, 351,\n",
              "       318, 166, 366, 256, 254, 288, 286, 186,  86, 280, 369, 359, 269,\n",
              "       184, 221, 142, 380, 220, 188, 279, 374, 414, 130, 345, 409, 223,\n",
              "       370, 258,  78, 179, 383, 344, 348, 125, 412, 268, 386, 140, 377,\n",
              "       171, 277, 284, 175, 415, 373, 354, 411, 278, 183, 128, 287, 131,\n",
              "       213, 185, 343, 347, 225, 145, 353,  83, 226, 217, 253, 384, 180,\n",
              "       129, 176, 389, 169, 216, 250, 413, 214, 170, 143, 283, 261, 352,\n",
              "       224,  81, 173, 260, 388, 139, 281, 346, 244, 408, 267, 387,  80,\n",
              "        82, 172, 134, 137, 282, 212, 390, 251,  79, 211, 266, 404, 133,\n",
              "       227, 144, 132, 252, 395, 215, 407, 229, 399, 392, 249, 230, 263,\n",
              "       262, 239, 241, 136, 228, 245, 138, 398, 209, 135, 247, 210, 391,\n",
              "       234, 236, 405, 240, 232, 238, 248, 403, 264, 265])"
            ]
          },
          "metadata": {},
          "execution_count": 75
        }
      ]
    },
    {
      "cell_type": "code",
      "source": [
        "residues_to_keep.sort()"
      ],
      "metadata": {
        "id": "z_oJzWDwUEje"
      },
      "execution_count": 76,
      "outputs": []
    },
    {
      "cell_type": "code",
      "source": [
        "residues_to_keep"
      ],
      "metadata": {
        "colab": {
          "base_uri": "https://localhost:8080/"
        },
        "id": "AJqpPPkKUZhf",
        "outputId": "e388f301-54df-48b5-e878-aa4141864666"
      },
      "execution_count": 77,
      "outputs": [
        {
          "output_type": "execute_result",
          "data": {
            "text/plain": [
              "array([  0,   1,   2,   3,   4,   5,   6,   7,   8,   9,  10,  11,  12,\n",
              "        13,  14,  15,  16,  17,  18,  19,  20,  21,  22,  23,  24,  25,\n",
              "        26,  27,  28,  29,  30,  31,  32,  33,  34,  35,  36,  37,  38,\n",
              "        39,  40,  41,  42,  43,  44,  45,  46,  47,  48,  49,  50,  51,\n",
              "        52,  53,  54,  55,  56,  57,  58,  59,  60,  61,  62,  63,  64,\n",
              "        65,  66,  67,  68,  69,  70,  71,  72,  73,  74,  75,  76,  77,\n",
              "        78,  79,  80,  81,  82,  83,  84,  85,  86,  87,  88,  89,  90,\n",
              "        91,  92,  93,  94,  95,  96,  97,  98,  99, 100, 101, 102, 103,\n",
              "       104, 105, 106, 107, 108, 109, 110, 111, 112, 113, 114, 115, 116,\n",
              "       117, 118, 119, 120, 121, 122, 123, 124, 125, 126, 127, 128, 129,\n",
              "       130, 131, 132, 133, 134, 135, 136, 137, 138, 139, 140, 141, 142,\n",
              "       143, 144, 145, 146, 147, 148, 149, 150, 151, 152, 153, 154, 155,\n",
              "       156, 157, 158, 159, 160, 161, 162, 163, 164, 165, 166, 167, 168,\n",
              "       169, 170, 171, 172, 173, 174, 175, 176, 177, 178, 179, 180, 181,\n",
              "       182, 183, 184, 185, 186, 187, 188, 189, 190, 191, 192, 193, 194,\n",
              "       195, 196, 197, 198, 199, 200, 201, 202, 203, 204, 205, 206, 207,\n",
              "       209, 210, 211, 212, 213, 214, 215, 216, 217, 218, 219, 220, 221,\n",
              "       222, 223, 224, 225, 226, 227, 228, 229, 230, 232, 234, 236, 238,\n",
              "       239, 240, 241, 244, 245, 247, 248, 249, 250, 251, 252, 253, 254,\n",
              "       255, 256, 257, 258, 259, 260, 261, 262, 263, 264, 265, 266, 267,\n",
              "       268, 269, 270, 271, 272, 273, 274, 275, 276, 277, 278, 279, 280,\n",
              "       281, 282, 283, 284, 285, 286, 287, 288, 289, 290, 291, 292, 293,\n",
              "       294, 295, 296, 297, 298, 299, 300, 301, 302, 303, 304, 305, 306,\n",
              "       307, 308, 309, 310, 311, 312, 313, 314, 315, 316, 317, 318, 319,\n",
              "       320, 321, 322, 323, 324, 325, 326, 327, 328, 329, 330, 331, 332,\n",
              "       333, 334, 335, 336, 337, 338, 339, 340, 341, 342, 343, 344, 345,\n",
              "       346, 347, 348, 349, 350, 351, 352, 353, 354, 355, 356, 357, 358,\n",
              "       359, 360, 361, 362, 363, 364, 365, 366, 367, 368, 369, 370, 371,\n",
              "       372, 373, 374, 375, 376, 377, 378, 379, 380, 381, 382, 383, 384,\n",
              "       385, 386, 387, 388, 389, 390, 391, 392, 395, 398, 399, 403, 404,\n",
              "       405, 407, 408, 409, 410, 411, 412, 413, 414, 415])"
            ]
          },
          "metadata": {},
          "execution_count": 77
        }
      ]
    },
    {
      "cell_type": "code",
      "source": [
        "residues_to_remove"
      ],
      "metadata": {
        "colab": {
          "base_uri": "https://localhost:8080/"
        },
        "id": "fhH4k9vhLbJ9",
        "outputId": "f355fc08-fd5a-4a47-89d7-7dd664609e9f"
      },
      "execution_count": 69,
      "outputs": [
        {
          "output_type": "execute_result",
          "data": {
            "text/plain": [
              "array([237, 243, 396, 231, 406, 394, 400, 401, 246, 242, 393, 397, 235,\n",
              "       208, 233, 402])"
            ]
          },
          "metadata": {},
          "execution_count": 69
        }
      ]
    },
    {
      "cell_type": "code",
      "source": [
        "aa_masses[50]"
      ],
      "metadata": {
        "colab": {
          "base_uri": "https://localhost:8080/"
        },
        "id": "uWI46Td9MT5u",
        "outputId": "00f9cbbd-fb05-48c3-c0b6-c6e8f7e400b4"
      },
      "execution_count": 97,
      "outputs": [
        {
          "output_type": "execute_result",
          "data": {
            "text/plain": [
              "410.3248"
            ]
          },
          "metadata": {},
          "execution_count": 97
        }
      ]
    },
    {
      "cell_type": "code",
      "source": [
        "# Truncate feature arrays based on distance\n",
        "aa_masses_filtered = [aa_masses[i] for i in residues_to_keep]"
      ],
      "metadata": {
        "id": "bRl7h-ceJtwS"
      },
      "execution_count": 98,
      "outputs": []
    },
    {
      "cell_type": "code",
      "source": [
        "aa_masses_filtered[50]"
      ],
      "metadata": {
        "colab": {
          "base_uri": "https://localhost:8080/"
        },
        "id": "XP0uajHBMV_V",
        "outputId": "35f8e29f-e687-4ec3-eafa-096a5ecb4016"
      },
      "execution_count": 99,
      "outputs": [
        {
          "output_type": "execute_result",
          "data": {
            "text/plain": [
              "410.3248"
            ]
          },
          "metadata": {},
          "execution_count": 99
        }
      ]
    },
    {
      "cell_type": "code",
      "source": [
        "aa_masses_filtered"
      ],
      "metadata": {
        "id": "7Owf-8F44Z1r"
      },
      "execution_count": null,
      "outputs": []
    },
    {
      "cell_type": "code",
      "source": [
        "len(aa_masses)"
      ],
      "metadata": {
        "colab": {
          "base_uri": "https://localhost:8080/"
        },
        "id": "okxAYvW543py",
        "outputId": "afa25c27-35ab-419e-fcad-8f6b2e293fca"
      },
      "execution_count": 54,
      "outputs": [
        {
          "output_type": "execute_result",
          "data": {
            "text/plain": [
              "400"
            ]
          },
          "metadata": {},
          "execution_count": 54
        }
      ]
    },
    {
      "cell_type": "markdown",
      "source": [
        "##Distance matrix"
      ],
      "metadata": {
        "id": "rZc_kZkJOJlR"
      }
    },
    {
      "cell_type": "code",
      "source": [
        "matrix_size=max_length+1"
      ],
      "metadata": {
        "id": "1yX1dnAl6Itn"
      },
      "execution_count": 28,
      "outputs": []
    },
    {
      "cell_type": "code",
      "source": [
        "# Update distance matrix\n",
        "aa_coords_to_keep = [aa_coords_geo[i] for i in residues_to_keep]\n",
        "all_cordinates=aa_coords_to_keep+[ligand_coord]\n",
        "distances_truncated = cdist(all_cordinates, all_cordinates)\n",
        "#distance_matrix = np.zeros((matrix_size, matrix_size))\n"
      ],
      "metadata": {
        "id": "pH2Ss4RB4-OC"
      },
      "execution_count": 115,
      "outputs": []
    },
    {
      "cell_type": "code",
      "source": [
        "#istance_matrix.shape"
      ],
      "metadata": {
        "id": "EefanzDr6W16"
      },
      "execution_count": 118,
      "outputs": []
    },
    {
      "cell_type": "code",
      "source": [
        "distances_truncated.shape"
      ],
      "metadata": {
        "colab": {
          "base_uri": "https://localhost:8080/"
        },
        "id": "_BFJZcWB75oy",
        "outputId": "7313a37a-0afa-40ba-8c89-e7eb8dd9c52f"
      },
      "execution_count": 117,
      "outputs": [
        {
          "output_type": "execute_result",
          "data": {
            "text/plain": [
              "(401, 401)"
            ]
          },
          "metadata": {},
          "execution_count": 117
        }
      ]
    },
    {
      "cell_type": "code",
      "source": [
        "type(distances_truncated)"
      ],
      "metadata": {
        "colab": {
          "base_uri": "https://localhost:8080/"
        },
        "id": "3xDadodF9RcH",
        "outputId": "aabff160-0a5c-4d45-e169-efdcea4528ef"
      },
      "execution_count": 119,
      "outputs": [
        {
          "output_type": "execute_result",
          "data": {
            "text/plain": [
              "numpy.ndarray"
            ]
          },
          "metadata": {},
          "execution_count": 119
        }
      ]
    },
    {
      "cell_type": "code",
      "source": [
        "distances_truncated"
      ],
      "metadata": {
        "colab": {
          "base_uri": "https://localhost:8080/"
        },
        "id": "lM1ZMPmY9UW_",
        "outputId": "cc4131b3-d1aa-43ee-e7a1-e558707da804"
      },
      "execution_count": 120,
      "outputs": [
        {
          "output_type": "execute_result",
          "data": {
            "text/plain": [
              "array([[ 0.        ,  4.509076  ,  6.66773108, ..., 47.98232646,\n",
              "        46.80152452, 23.65876893],\n",
              "       [ 4.509076  ,  0.        ,  6.2965018 , ..., 44.76961841,\n",
              "        43.89223271, 21.12787027],\n",
              "       [ 6.66773108,  6.2965018 ,  0.        , ..., 43.19499477,\n",
              "        42.40672492, 17.31877785],\n",
              "       ...,\n",
              "       [47.98232646, 44.76961841, 43.19499477, ...,  0.        ,\n",
              "         6.25296843, 29.21021032],\n",
              "       [46.80152452, 43.89223271, 42.40672492, ...,  6.25296843,\n",
              "         0.        , 30.04584172],\n",
              "       [23.65876893, 21.12787027, 17.31877785, ..., 29.21021032,\n",
              "        30.04584172,  0.        ]])"
            ]
          },
          "metadata": {},
          "execution_count": 120
        }
      ]
    },
    {
      "cell_type": "code",
      "source": [
        "# distance_matrix[:max_length, -1] = distances_truncated\n",
        "# distance_matrix[-1, :max_length] = distances_truncated.T"
      ],
      "metadata": {
        "id": "yM7rnKBQ6Rxj"
      },
      "execution_count": null,
      "outputs": []
    },
    {
      "cell_type": "code",
      "source": [
        "distances_truncated[395:,395:]"
      ],
      "metadata": {
        "colab": {
          "base_uri": "https://localhost:8080/"
        },
        "id": "eVR2O6aNCYlH",
        "outputId": "2b539ce2-40d5-4042-a1e5-0bd2b5bc05d1"
      },
      "execution_count": 121,
      "outputs": [
        {
          "output_type": "execute_result",
          "data": {
            "text/plain": [
              "array([[ 0.        ,  4.03554274,  5.72274142,  7.53341136, 10.20551251,\n",
              "        30.56496822],\n",
              "       [ 4.03554274,  0.        ,  3.95506141,  3.9610275 ,  8.68987564,\n",
              "        29.76971862],\n",
              "       [ 5.72274142,  3.95506141,  0.        ,  4.06852423,  6.25408786,\n",
              "        32.15838046],\n",
              "       [ 7.53341136,  3.9610275 ,  4.06852423,  0.        ,  6.25296843,\n",
              "        29.21021032],\n",
              "       [10.20551251,  8.68987564,  6.25408786,  6.25296843,  0.        ,\n",
              "        30.04584172],\n",
              "       [30.56496822, 29.76971862, 32.15838046, 29.21021032, 30.04584172,\n",
              "         0.        ]])"
            ]
          },
          "metadata": {},
          "execution_count": 121
        }
      ]
    },
    {
      "cell_type": "code",
      "source": [],
      "metadata": {
        "id": "50iV1FFNXz6i"
      },
      "execution_count": null,
      "outputs": []
    },
    {
      "cell_type": "markdown",
      "source": [
        "##Molecular mass"
      ],
      "metadata": {
        "id": "TmlElX63aDgb"
      }
    },
    {
      "cell_type": "code",
      "source": [
        "Descriptors.MolWt(mol)"
      ],
      "metadata": {
        "colab": {
          "base_uri": "https://localhost:8080/"
        },
        "id": "0t6WFaY2aqJH",
        "outputId": "348f3ea3-fc4b-46ae-eee3-f9d531e653e0"
      },
      "execution_count": 126,
      "outputs": [
        {
          "output_type": "execute_result",
          "data": {
            "text/plain": [
              "472.5430000000002"
            ]
          },
          "metadata": {},
          "execution_count": 126
        }
      ]
    },
    {
      "cell_type": "code",
      "source": [
        "aa_mass_channel = np.zeros((matrix_size, matrix_size))\n"
      ],
      "metadata": {
        "id": "mJHEOl83aFbA"
      },
      "execution_count": 122,
      "outputs": []
    },
    {
      "cell_type": "code",
      "source": [
        "np.fill_diagonal(aa_mass_channel, aa_masses_filtered + [Descriptors.MolWt(mol)])  # Padded/truncated masses"
      ],
      "metadata": {
        "id": "S1Q9jqDaaXaA"
      },
      "execution_count": 123,
      "outputs": []
    },
    {
      "cell_type": "code",
      "source": [
        "aa_mass_channel"
      ],
      "metadata": {
        "colab": {
          "base_uri": "https://localhost:8080/"
        },
        "id": "1YQ0We66ajWA",
        "outputId": "6c9dfe06-e92d-4ac7-f7fa-4b332fc7157c"
      },
      "execution_count": 124,
      "outputs": [
        {
          "output_type": "execute_result",
          "data": {
            "text/plain": [
              "array([[508.6143,   0.    ,   0.    , ...,   0.    ,   0.    ,   0.    ],\n",
              "       [  0.    , 438.4781,   0.    , ...,   0.    ,   0.    ,   0.    ],\n",
              "       [  0.    ,   0.    , 412.4442, ...,   0.    ,   0.    ,   0.    ],\n",
              "       ...,\n",
              "       [  0.    ,   0.    ,   0.    , ..., 381.4234,   0.    ,   0.    ],\n",
              "       [  0.    ,   0.    ,   0.    , ...,   0.    , 302.3268,   0.    ],\n",
              "       [  0.    ,   0.    ,   0.    , ...,   0.    ,   0.    , 472.543 ]])"
            ]
          },
          "metadata": {},
          "execution_count": 124
        }
      ]
    },
    {
      "cell_type": "code",
      "source": [
        "aa_mass_channel.shape"
      ],
      "metadata": {
        "colab": {
          "base_uri": "https://localhost:8080/"
        },
        "id": "wZf9hIx-al2J",
        "outputId": "77713815-8621-4465-fc09-4c6793ed8abe"
      },
      "execution_count": 127,
      "outputs": [
        {
          "output_type": "execute_result",
          "data": {
            "text/plain": [
              "(401, 401)"
            ]
          },
          "metadata": {},
          "execution_count": 127
        }
      ]
    },
    {
      "cell_type": "markdown",
      "source": [
        "##Van Der Waals radius"
      ],
      "metadata": {
        "id": "IFyDfu5trziO"
      }
    },
    {
      "cell_type": "code",
      "source": [
        "# # 3. Van der Waals Radius (example calculation)\n",
        "# vdw_radii = [ppb.get_amino_acids_percent()[aa] * 1.5 for aa in ppb.sequence]\n",
        "# # Pad/truncate vdw_radii if needed, similar to aa_masses\n",
        "# lst=aa_masses_filtered + [Descriptors.MolMR(mol)]\n",
        "# vdw_radii_channel = np.zeros((matrix_size, matrix_size))\n",
        "# np.fill_diagonal(vdw_radii_channel, lst)"
      ],
      "metadata": {
        "id": "EhIbepN7aw6v"
      },
      "execution_count": 136,
      "outputs": []
    },
    {
      "cell_type": "code",
      "source": [
        "ptable = fetch_table(\"elements\")"
      ],
      "metadata": {
        "id": "TgE5OE5f5cuW"
      },
      "execution_count": 33,
      "outputs": []
    },
    {
      "cell_type": "code",
      "source": [
        "cols = [\"symbol\",\n",
        "    \"vdw_radius_dreiding\"\n",
        "]"
      ],
      "metadata": {
        "id": "M21gLFjv5gnX"
      },
      "execution_count": 34,
      "outputs": []
    },
    {
      "cell_type": "code",
      "source": [
        "ptable=ptable[cols]"
      ],
      "metadata": {
        "id": "HnBQluJm581_"
      },
      "execution_count": 39,
      "outputs": []
    },
    {
      "cell_type": "code",
      "source": [
        "ptable.dropna(inplace=True)"
      ],
      "metadata": {
        "id": "UQnlswGL6C3q"
      },
      "execution_count": 40,
      "outputs": []
    },
    {
      "cell_type": "code",
      "source": [
        "van_dict=ptable.set_index('symbol').T.to_dict('index')['vdw_radius_dreiding']"
      ],
      "metadata": {
        "id": "gY7-mC556yo4"
      },
      "execution_count": 51,
      "outputs": []
    },
    {
      "cell_type": "code",
      "source": [
        "van_dict"
      ],
      "metadata": {
        "colab": {
          "base_uri": "https://localhost:8080/"
        },
        "id": "JKmav8UI7YXs",
        "outputId": "49cbbbc0-2d3b-4756-d91d-044e710485b8"
      },
      "execution_count": 52,
      "outputs": [
        {
          "output_type": "execute_result",
          "data": {
            "text/plain": [
              "{'H': 319.5,\n",
              " 'B': 401.99999999999994,\n",
              " 'C': 389.83,\n",
              " 'N': 366.21000000000004,\n",
              " 'O': 340.46,\n",
              " 'F': 347.2,\n",
              " 'Al': 438.99999999999994,\n",
              " 'Si': 426.99999999999994,\n",
              " 'P': 415.00000000000006,\n",
              " 'S': 403.0,\n",
              " 'Cl': 395.03,\n",
              " 'Ga': 438.99999999999994,\n",
              " 'Ge': 426.99999999999994,\n",
              " 'As': 415.00000000000006,\n",
              " 'Se': 403.0,\n",
              " 'Br': 395.0,\n",
              " 'In': 459.0,\n",
              " 'Sn': 447.0,\n",
              " 'Sb': 434.99999999999994,\n",
              " 'Te': 423.00000000000006,\n",
              " 'I': 415.00000000000006}"
            ]
          },
          "metadata": {},
          "execution_count": 52
        }
      ]
    },
    {
      "cell_type": "code",
      "source": [
        "# Calculate Amino Acid Van der Waals Radii (Mendeleev example)\n",
        "aa_vdw_radii = []\n",
        "for residue in structure.get_residues():\n",
        "    if residue.get_resname() !='HOH':\n",
        "        atoms = [atom.element for atom in residue.get_atoms()]\n",
        "        #print(atoms)\n",
        "        radii = [van_dict[atom] for atom in atoms]\n",
        "        #print(radii)\n",
        "\n",
        "        aa_vdw_radii.append(np.mean(radii))  # Average radii\n",
        "\n"
      ],
      "metadata": {
        "id": "2AcEtbo4r-iH"
      },
      "execution_count": 68,
      "outputs": []
    },
    {
      "cell_type": "code",
      "source": [
        "aa_vdw_radii"
      ],
      "metadata": {
        "id": "_0WGKzuu8QSH"
      },
      "execution_count": null,
      "outputs": []
    },
    {
      "cell_type": "code",
      "source": [
        "aa_vdw_radii_filtered = [aa_vdw_radii[i] for i in residues_to_keep]"
      ],
      "metadata": {
        "id": "QkSUez4-Br3s"
      },
      "execution_count": 78,
      "outputs": []
    },
    {
      "cell_type": "code",
      "source": [
        "# Calculate Ligand Van der Waals Radius (Mendeleev example)\n",
        "ligand_vdw_radius = []\n",
        "\n",
        "for atom in mol.GetAtoms():\n",
        "    atomic_symbol = atom.GetSymbol()\n",
        "    radius = van_dict[atomic_symbol] #if atomic_symbol in van_dict else 0\n",
        "    ligand_vdw_radius.append(radius)\n",
        "\n",
        "ligand_vdw_radius = np.mean(ligand_vdw_radius)  # average radii"
      ],
      "metadata": {
        "id": "3hydzrEJwe42"
      },
      "execution_count": 79,
      "outputs": []
    },
    {
      "cell_type": "code",
      "source": [
        "ligand_vdw_radius"
      ],
      "metadata": {
        "colab": {
          "base_uri": "https://localhost:8080/"
        },
        "id": "NjDW6QQT8lbH",
        "outputId": "a71e318e-af0a-4d74-e02f-42974e775b07"
      },
      "execution_count": 59,
      "outputs": [
        {
          "output_type": "execute_result",
          "data": {
            "text/plain": [
              "379.10545454545445"
            ]
          },
          "metadata": {},
          "execution_count": 59
        }
      ]
    },
    {
      "cell_type": "code",
      "source": [
        "\n",
        "# Calculate Ligand Van der Waals Radius (RDKit example)\n",
        "#ligand_vdw_radius = Descriptors.RadiusOfGyration(mol)\n",
        "\n",
        "# Create Channel\n",
        "vdw_radii_channel = np.diag(aa_vdw_radii_filtered + [ligand_vdw_radius])"
      ],
      "metadata": {
        "id": "icMkkM4gsDkv"
      },
      "execution_count": 82,
      "outputs": []
    },
    {
      "cell_type": "code",
      "source": [
        "vdw_radii_channel[-1][-1]"
      ],
      "metadata": {
        "colab": {
          "base_uri": "https://localhost:8080/"
        },
        "id": "Bm6G_YsicibH",
        "outputId": "cce50514-78ac-4eb7-9221-38d91d001361"
      },
      "execution_count": 84,
      "outputs": [
        {
          "output_type": "execute_result",
          "data": {
            "text/plain": [
              "379.10545454545445"
            ]
          },
          "metadata": {},
          "execution_count": 84
        }
      ]
    },
    {
      "cell_type": "code",
      "source": [
        "vdw_radii_channel.shape"
      ],
      "metadata": {
        "colab": {
          "base_uri": "https://localhost:8080/"
        },
        "id": "-ntASYxVmPoo",
        "outputId": "ae497aef-e145-4bc6-df06-082c97b15647"
      },
      "execution_count": 83,
      "outputs": [
        {
          "output_type": "execute_result",
          "data": {
            "text/plain": [
              "(401, 401)"
            ]
          },
          "metadata": {},
          "execution_count": 83
        }
      ]
    },
    {
      "cell_type": "code",
      "source": [
        "# [Descriptors.MolMR(mol)]"
      ],
      "metadata": {
        "id": "h6ZgOgUJdlQf"
      },
      "execution_count": null,
      "outputs": []
    },
    {
      "cell_type": "code",
      "source": [
        "# vdw_radii + [Descriptors.MolMR(mol)]"
      ],
      "metadata": {
        "id": "MmQWAe12mFA8"
      },
      "execution_count": null,
      "outputs": []
    },
    {
      "cell_type": "code",
      "source": [
        "Descriptors.MolLogP(mol)"
      ],
      "metadata": {
        "colab": {
          "base_uri": "https://localhost:8080/"
        },
        "id": "RtpexsG_mKLT",
        "outputId": "474797f1-2f3f-4529-c72e-fc604a9f0c69"
      },
      "execution_count": 85,
      "outputs": [
        {
          "output_type": "execute_result",
          "data": {
            "text/plain": [
              "-1.8473999999999928"
            ]
          },
          "metadata": {},
          "execution_count": 85
        }
      ]
    },
    {
      "cell_type": "code",
      "source": [],
      "metadata": {
        "id": "E5Hc4puqG9S1"
      },
      "execution_count": null,
      "outputs": []
    }
  ]
}